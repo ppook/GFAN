{
 "cells": [
  {
   "cell_type": "code",
   "execution_count": 1,
   "metadata": {},
   "outputs": [
    {
     "name": "stderr",
     "output_type": "stream",
     "text": [
      "/home/lab/miniconda3/envs/zyh/lib/python3.7/site-packages/sklearn/manifold/_t_sne.py:783: FutureWarning: The default initialization in TSNE will change from 'random' to 'pca' in 1.2.\n",
      "  FutureWarning,\n",
      "/home/lab/miniconda3/envs/zyh/lib/python3.7/site-packages/sklearn/manifold/_t_sne.py:793: FutureWarning: The default learning rate in TSNE will change from 200.0 to 'auto' in 1.2.\n",
      "  FutureWarning,\n"
     ]
    }
   ],
   "source": [
    "import numpy as np\n",
    "import sklearn\n",
    "from sklearn.manifold import TSNE\n",
    "import scipy.sparse as sp\n",
    "# Random state.\n",
    "RS = 2\n",
    " \n",
    "import matplotlib.pyplot as plt\n",
    "import matplotlib.patheffects as PathEffects\n",
    "import matplotlib\n",
    "import pickle\n",
    "# We import seaborn to make nice plots.\n",
    "import seaborn as sns\n",
    "import torch\n",
    "import sklearn.metrics as sm\n",
    "from sklearn.cluster import KMeans\n",
    "from utils.utils import load_data, pos_neg_split, normalize, biased_split\n",
    "sns.set_style('darkgrid')\n",
    "sns.set_palette('muted')\n",
    "sns.set_context(\"notebook\", font_scale=1.5,\n",
    "                rc={\"lines.linewidth\": 2.5})\n",
    "\n",
    "\n",
    "[homo, relation1, relation2, relation3], feat_data, labels = load_data('yelp', \"data/\")\n",
    "\n",
    "f = open(\"./yelp_features.pkl\", 'rb')\n",
    "feature = pickle.load(f).cpu()\n",
    "feature = feature.detach().numpy()\n",
    "# prefix = \"./data/ACM\"\n",
    "# feature_0 = np.load(\"./acm_features.npy\")\n",
    "# labels = np.load(prefix + '/labels.npy')\n",
    "\n",
    "feature_0 = feature\n",
    "labels = labels\n",
    "\n",
    "num_class = 2\n",
    "# We first reorder the data points according to the handwritten numbers.\n",
    "X = np.vstack([feature_0[labels==i]\n",
    "               for i in range(num_class)])\n",
    "y = np.hstack([labels[labels==i]\n",
    "               for i in range(num_class)])\n",
    "digits_proj = TSNE(n_components=2,random_state=RS).fit_transform(X)\n",
    "kmeans=KMeans(n_clusters=num_class)   #n_clusters:number of cluster  \n",
    "kmeans.fit(digits_proj)  \n",
    "score = sm.silhouette_score(digits_proj, y, sample_size=len(digits_proj), metric='euclidean')\n",
    "print(\"轮廓系数 ：\",score)\n",
    "def scatter(x, colors):\n",
    "    # We choose a color palette with seaborn.\n",
    "    # palette = np.array(sns.color_palette(\"hls\", 10))\n",
    "    \n",
    "    # if num_class == 3:\n",
    "    #     palette = np.array([\"#6967ce\",\"#ffb900\",\"#3be8b0\"])\n",
    "    # elif num_class == 4:\n",
    "    #     palette = np.array([\"#6967ce\",\"#ffb900\",\"#3be8b0\",\"#e67e22\"])\n",
    "    # palette = np.array(sns.hls_palette(8,l=0.5,s=0.8))\n",
    "    palette = np.array([\"#6967ce\",\"#8B0000\"])\n",
    "    # We create a scatter plot.\n",
    "    f = plt.figure(figsize=(8, 8))\n",
    "    ax = plt.subplot(aspect='equal')\n",
    "    sc = ax.scatter(x[:,0], x[:,1], lw=0, s=30,\n",
    "                    c=palette[colors.astype(np.int)])\n",
    "    plt.xlim(-25, 25)\n",
    "    plt.ylim(-25, 25)\n",
    "    ax.axis('off')\n",
    "    ax.axis('tight')\n",
    " \n",
    "    # We add the labels for each digit.\n",
    "    # \n",
    "    \n",
    " \n",
    "scatter(digits_proj, y)\n",
    "# plt.savefig('digits_tsne-generated.png', dpi=120)\n",
    "plt.show()"
   ]
  },
  {
   "cell_type": "code",
   "execution_count": 20,
   "metadata": {},
   "outputs": [
    {
     "ename": "TypeError",
     "evalue": "'list' object is not callable",
     "output_type": "error",
     "traceback": [
      "\u001b[0;31m---------------------------------------------------------------------------\u001b[0m",
      "\u001b[0;31mTypeError\u001b[0m                                 Traceback (most recent call last)",
      "\u001b[0;32m/tmp/ipykernel_867018/195321649.py\u001b[0m in \u001b[0;36m<module>\u001b[0;34m\u001b[0m\n\u001b[1;32m     30\u001b[0m \u001b[0mfeature\u001b[0m \u001b[0;34m=\u001b[0m \u001b[0mfeature\u001b[0m\u001b[0;34m.\u001b[0m\u001b[0mdetach\u001b[0m\u001b[0;34m(\u001b[0m\u001b[0;34m)\u001b[0m\u001b[0;34m.\u001b[0m\u001b[0mnumpy\u001b[0m\u001b[0;34m(\u001b[0m\u001b[0;34m)\u001b[0m\u001b[0;34m\u001b[0m\u001b[0;34m\u001b[0m\u001b[0m\n\u001b[1;32m     31\u001b[0m \u001b[0;34m\u001b[0m\u001b[0m\n\u001b[0;32m---> 32\u001b[0;31m \u001b[0mindex\u001b[0m \u001b[0;34m=\u001b[0m \u001b[0mlist\u001b[0m\u001b[0;34m(\u001b[0m\u001b[0mrange\u001b[0m\u001b[0;34m(\u001b[0m\u001b[0mlen\u001b[0m\u001b[0;34m(\u001b[0m\u001b[0mlabels\u001b[0m\u001b[0;34m)\u001b[0m\u001b[0;34m)\u001b[0m\u001b[0;34m)\u001b[0m\u001b[0;34m\u001b[0m\u001b[0;34m\u001b[0m\u001b[0m\n\u001b[0m\u001b[1;32m     33\u001b[0m idx_rest, idx_test, y_rest, y_test = train_test_split(index, labels, stratify=labels, train_size=0.6,\n\u001b[1;32m     34\u001b[0m                                                         random_state=2, shuffle=True)\n",
      "\u001b[0;31mTypeError\u001b[0m: 'list' object is not callable"
     ]
    }
   ],
   "source": []
  }
 ],
 "metadata": {
  "kernelspec": {
   "display_name": "Python 3",
   "language": "python",
   "name": "python3"
  },
  "language_info": {
   "codemirror_mode": {
    "name": "ipython",
    "version": 3
   },
   "file_extension": ".py",
   "mimetype": "text/x-python",
   "name": "python",
   "nbconvert_exporter": "python",
   "pygments_lexer": "ipython3",
   "version": "3.7.16"
  },
  "orig_nbformat": 4
 },
 "nbformat": 4,
 "nbformat_minor": 2
}
