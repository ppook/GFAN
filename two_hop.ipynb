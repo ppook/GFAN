{
 "cells": [
  {
   "cell_type": "code",
   "execution_count": null,
   "metadata": {},
   "outputs": [],
   "source": [
    "import time, datetime\n",
    "import os\n",
    "import random\n",
    "import argparse\n",
    "import numpy as np\n",
    "from sklearn.model_selection import train_test_split\n",
    "\n",
    "from utils.utils import test_GDN, test_sage, load_data, pos_neg_split, normalize, biased_split\n",
    "from models.model import GDNLayer\n",
    "from models.layers import InterAgg, IntraAgg\n",
    "from models.graphsage import *\n",
    "import pickle as pkl\n",
    "import logging\n",
    "import torch\n",
    "import torch.nn as nn\n",
    "from loss import init_center\n",
    "\n",
    "[homo, relation1, relation2, relation3], feat_data, labels = load_data(\"yelp\", prefix='data/')\n",
    "adj_lists = [relation1, relation2, relation3]\n",
    "to_neighs = []\n",
    "for adj_list in adj_lists:\n",
    "    to_neighs.append([set(adj_list[int(node)]) for node in nodes])\n",
    "\n",
    "# get neighbor node id list for each batch node and relation\n",
    "r1_list = [list(to_neigh) for to_neigh in to_neighs[0]]\n",
    "r2_list = [list(to_neigh) for to_neigh in to_neighs[1]]\n",
    "r3_list = [list(to_neigh) for to_neigh in to_neighs[2]]"
   ]
  }
 ],
 "metadata": {
  "language_info": {
   "name": "python"
  },
  "orig_nbformat": 4
 },
 "nbformat": 4,
 "nbformat_minor": 2
}
